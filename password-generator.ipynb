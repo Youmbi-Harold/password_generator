{
 "cells": [
  {
   "cell_type": "code",
   "execution_count": 2,
   "id": "82b0fea4",
   "metadata": {},
   "outputs": [],
   "source": [
    "import random\n",
    "letters = ['a', 'b', 'c', 'd', 'e', 'f', 'g', 'h', 'i', 'j', 'k', 'l', 'm', 'n', 'o', 'p', 'q', 'r', 's', 't', 'u', 'v', 'w', 'x', 'y', 'z', 'A', 'B', 'C', 'D', 'E', 'F', 'G', 'H', 'I', 'J', 'K', 'L', 'M', 'N', 'O', 'P', 'Q', 'R', 'S', 'T', 'U', 'V', 'W', 'X', 'Y', 'Z']\n",
    "numbers = ['0', '1', '2', '3', '4', '5', '6', '7', '8', '9']\n",
    "symbols = ['!', '#', '$', '%', '&', '(', ')', '*', '+']"
   ]
  },
  {
   "cell_type": "code",
   "execution_count": 14,
   "id": "bf0175f5",
   "metadata": {},
   "outputs": [
    {
     "name": "stdout",
     "output_type": "stream",
     "text": [
      "Welcome to my pypassword Generator!\n",
      "How many letters would you want? :5\n",
      "How many numbers would you want? :2\n",
      "How many numbers would you want? :2\n",
      "A possible password could be :  wsssZ21()\n"
     ]
    }
   ],
   "source": [
    "print(\"Welcome to my pypassword Generator!\")\n",
    "num_letters = int(input(\"How many letters would you want? :\"))\n",
    "num_numbers = int(input(\"How many numbers would you want? :\"))\n",
    "num_symbols = int(input(\"How many numbers would you want? :\"))#prompting user for his/her own entry\n",
    "\n",
    "#eazy level\n",
    "password = \" \"#initialising password to be be a varaible with an empty entry\n",
    "for character in range(1, num_letters+1):\n",
    "    password += random.choice(letters)\n",
    "\n",
    "for charcter in range(1, num_numbers+1):\n",
    "    password += random.choice(numbers)\n",
    "\n",
    "for character in range(1, num_symbols+1):\n",
    "    password += random.choice(symbols)  #using the for loop with condition by usiing an empty string, password and concatinating with the random entry of string of letters, numbers, symbols\n",
    "    \n",
    "print(\"A possible password could be :\", password)\n",
    "\n",
    "\n",
    "\n"
   ]
  },
  {
   "cell_type": "code",
   "execution_count": 17,
   "id": "dafc311b",
   "metadata": {},
   "outputs": [
    {
     "name": "stdout",
     "output_type": "stream",
     "text": [
      "['2', 'V', '2', 'g', '+', 'W', 'S', ')', 'w']\n",
      " 2V2g+WS)w\n"
     ]
    }
   ],
   "source": [
    "# Harder level\n",
    "password_h = [ ] \n",
    "for character in range(1, num_letters+1):\n",
    "    password_h += random.choice(letters)\n",
    "\n",
    "for charcter in range(1, num_numbers+1):\n",
    "    password_h += random.choice(numbers)\n",
    "\n",
    "for character in range(1, num_symbols+1):\n",
    "    password_h += random.choice(symbols)\n",
    "    \n",
    "random.shuffle(password_h)#creating a random shuffle of the empty list, password_h\n",
    "print(password_h)\n",
    "\n",
    "password = \" \"\n",
    "for character in password_h:\n",
    "    password += character \n",
    "print(password)# make the character variable to tap out those charcaters in password_h\n",
    "\n"
   ]
  },
  {
   "cell_type": "code",
   "execution_count": null,
   "id": "d0b8b7fd",
   "metadata": {},
   "outputs": [],
   "source": []
  }
 ],
 "metadata": {
  "kernelspec": {
   "display_name": "Python 3.8.5 64-bit",
   "language": "python",
   "name": "python385jvsc74a57bd066bccaa44e2aab93a1476cb08bc145cbbb2ba14adb8b52a5fd371d1d4c4b1abb"
  },
  "language_info": {
   "codemirror_mode": {
    "name": "ipython",
    "version": 3
   },
   "file_extension": ".py",
   "mimetype": "text/x-python",
   "name": "python",
   "nbconvert_exporter": "python",
   "pygments_lexer": "ipython3",
   "version": "3.8.5"
  }
 },
 "nbformat": 4,
 "nbformat_minor": 5
}
